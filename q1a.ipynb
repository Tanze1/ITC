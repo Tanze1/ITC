{
 "cells": [
  {
   "cell_type": "code",
   "execution_count": 11,
   "id": "1ad6f8ea",
   "metadata": {},
   "outputs": [
    {
     "name": "stdout",
     "output_type": "stream",
     "text": [
      "Enter Total Number of Biscuits: 20\n",
      "Enter Total Number of Children: 7\n",
      "Each Childen Get:  2\n",
      "Remaining Biscuits:  6\n"
     ]
    }
   ],
   "source": [
    "biscuits=int(input('Enter Total Number of Biscuits: '))\n",
    "children=int(input('Enter Total Number of Children: '))\n",
    "eachget=biscuits//children\n",
    "remain=biscuits%children\n",
    "print('Each Childen Get: ',eachget)\n",
    "print('Remaining Biscuits: ',remain)"
   ]
  }
 ],
 "metadata": {
  "kernelspec": {
   "display_name": "Python 3 (ipykernel)",
   "language": "python",
   "name": "python3"
  },
  "language_info": {
   "codemirror_mode": {
    "name": "ipython",
    "version": 3
   },
   "file_extension": ".py",
   "mimetype": "text/x-python",
   "name": "python",
   "nbconvert_exporter": "python",
   "pygments_lexer": "ipython3",
   "version": "3.9.7"
  }
 },
 "nbformat": 4,
 "nbformat_minor": 5
}
