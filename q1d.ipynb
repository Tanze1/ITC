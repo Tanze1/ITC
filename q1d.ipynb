{
 "cells": [
  {
   "cell_type": "code",
   "execution_count": 18,
   "id": "1f6df919",
   "metadata": {},
   "outputs": [
    {
     "name": "stdout",
     "output_type": "stream",
     "text": [
      "Enter any Characterb\n",
      "No it is not symbol on keyboard\n"
     ]
    }
   ],
   "source": [
    "#Read a char value and tell if it's a symbol on a keyboard.\n",
    "character=(input(\"Enter any Character\"))\n",
    "if character>'@'and character<'[' or character>='a' and character<'{':\n",
    "    print('No it is not symbol on keyboard')\n",
    "else:\n",
    "    print('Yes it is symbol on keyboard')"
   ]
  }
 ],
 "metadata": {
  "kernelspec": {
   "display_name": "Python 3 (ipykernel)",
   "language": "python",
   "name": "python3"
  },
  "language_info": {
   "codemirror_mode": {
    "name": "ipython",
    "version": 3
   },
   "file_extension": ".py",
   "mimetype": "text/x-python",
   "name": "python",
   "nbconvert_exporter": "python",
   "pygments_lexer": "ipython3",
   "version": "3.9.7"
  }
 },
 "nbformat": 4,
 "nbformat_minor": 5
}
