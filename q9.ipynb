{
 "cells": [
  {
   "cell_type": "code",
   "execution_count": 47,
   "id": "731b039e",
   "metadata": {},
   "outputs": [
    {
     "name": "stdout",
     "output_type": "stream",
     "text": [
      "Enter number 1: 3\n",
      "Enter number 2: 8\n",
      "Sum of Range:  33\n"
     ]
    }
   ],
   "source": [
    "#Calculate the sum between n1 and n2\n",
    "n1=int(input('Enter number 1: '))\n",
    "n2=int(input('Enter number 2: '))\n",
    "sum=0\n",
    "for i in range(n1,n2+1,1):\n",
    "    sum=sum+i\n",
    "print('Sum of Range: ',sum)"
   ]
  },
  {
   "cell_type": "code",
   "execution_count": null,
   "id": "1b0310d0",
   "metadata": {},
   "outputs": [],
   "source": []
  }
 ],
 "metadata": {
  "kernelspec": {
   "display_name": "Python 3 (ipykernel)",
   "language": "python",
   "name": "python3"
  },
  "language_info": {
   "codemirror_mode": {
    "name": "ipython",
    "version": 3
   },
   "file_extension": ".py",
   "mimetype": "text/x-python",
   "name": "python",
   "nbconvert_exporter": "python",
   "pygments_lexer": "ipython3",
   "version": "3.9.7"
  }
 },
 "nbformat": 4,
 "nbformat_minor": 5
}
