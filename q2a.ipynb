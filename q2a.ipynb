{
 "cells": [
  {
   "cell_type": "code",
   "execution_count": 12,
   "id": "67932ec8",
   "metadata": {},
   "outputs": [
    {
     "name": "stdout",
     "output_type": "stream",
     "text": [
      "Enter Current Year: 2022\n",
      "Enter Birth Year: 2001\n",
      "My Age Is:  21\n"
     ]
    }
   ],
   "source": [
    "#Read current year and the year of your birth as number and tell how old are you?  \n",
    "cyear=int(input('Enter Current Year: '))\n",
    "byear=int(input('Enter Birth Year: '))\n",
    "age=cyear-byear\n",
    "print('My Age Is: ',age)"
   ]
  }
 ],
 "metadata": {
  "kernelspec": {
   "display_name": "Python 3 (ipykernel)",
   "language": "python",
   "name": "python3"
  },
  "language_info": {
   "codemirror_mode": {
    "name": "ipython",
    "version": 3
   },
   "file_extension": ".py",
   "mimetype": "text/x-python",
   "name": "python",
   "nbconvert_exporter": "python",
   "pygments_lexer": "ipython3",
   "version": "3.9.7"
  }
 },
 "nbformat": 4,
 "nbformat_minor": 5
}
