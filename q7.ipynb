{
 "cells": [
  {
   "cell_type": "code",
   "execution_count": 23,
   "id": "67962fb1",
   "metadata": {},
   "outputs": [
    {
     "name": "stdout",
     "output_type": "stream",
     "text": [
      "Marks of subject 1: 77\n",
      "Marks of subject 2: 80\n",
      "Marks of subject 3: 90\n",
      "Marks of subject 4: 50\n",
      "Marks of subject 5: 90\n",
      "Agregate of this student is:  0.774\n",
      "Percentage of this student is: 77.4\n"
     ]
    }
   ],
   "source": [
    "#If the marks obtained by a students in five subjects are tybed by keyboard, calculate agregate marks and percentage marks\n",
    "#obtained by student.\n",
    "a=int(input(\"Marks of subject 1: \"))\n",
    "b=int(input(\"Marks of subject 2: \"))\n",
    "c=int(input(\"Marks of subject 3: \"))\n",
    "d=int(input(\"Marks of subject 4: \"))\n",
    "e=int(input(\"Marks of subject 5: \"))\n",
    "total=500\n",
    "obtained=a+b+c+d+e\n",
    "agregate=obtained/total\n",
    "percentage=agregate*100\n",
    "print('Agregate of this student is: ',agregate)\n",
    "print('Percentage of this student is:',percentage)"
   ]
  },
  {
   "cell_type": "code",
   "execution_count": null,
   "id": "448185a1",
   "metadata": {},
   "outputs": [],
   "source": []
  }
 ],
 "metadata": {
  "kernelspec": {
   "display_name": "Python 3 (ipykernel)",
   "language": "python",
   "name": "python3"
  },
  "language_info": {
   "codemirror_mode": {
    "name": "ipython",
    "version": 3
   },
   "file_extension": ".py",
   "mimetype": "text/x-python",
   "name": "python",
   "nbconvert_exporter": "python",
   "pygments_lexer": "ipython3",
   "version": "3.9.7"
  }
 },
 "nbformat": 4,
 "nbformat_minor": 5
}
