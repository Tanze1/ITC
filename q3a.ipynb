{
 "cells": [
  {
   "cell_type": "code",
   "execution_count": 23,
   "id": "628defe1",
   "metadata": {},
   "outputs": [
    {
     "name": "stdout",
     "output_type": "stream",
     "text": [
      "Enter number: 4\n",
      "number(n)     square     cube\n",
      "-----------------------------\n",
      "   4            16       64\n"
     ]
    }
   ],
   "source": [
    "#Read a number n from user and then print table of numbers formatted as follows.(Make use of airthmetic expressions where required)\n",
    "number=int(input('Enter number: '))\n",
    "square=number*number\n",
    "cube=number*number*number\n",
    "print('number(n)     square     cube')\n",
    "print('-----------------------------')\n",
    "print('  ',number,'          ',square,'     ',cube)"
   ]
  }
 ],
 "metadata": {
  "kernelspec": {
   "display_name": "Python 3 (ipykernel)",
   "language": "python",
   "name": "python3"
  },
  "language_info": {
   "codemirror_mode": {
    "name": "ipython",
    "version": 3
   },
   "file_extension": ".py",
   "mimetype": "text/x-python",
   "name": "python",
   "nbconvert_exporter": "python",
   "pygments_lexer": "ipython3",
   "version": "3.9.7"
  }
 },
 "nbformat": 4,
 "nbformat_minor": 5
}
