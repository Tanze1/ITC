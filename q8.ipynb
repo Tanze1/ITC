{
 "cells": [
  {
   "cell_type": "code",
   "execution_count": 35,
   "id": "731b039e",
   "metadata": {},
   "outputs": [
    {
     "name": "stdout",
     "output_type": "stream",
     "text": [
      "Input S or s for sqquare and C or c for circlec\n",
      "Enter radius of Circle: 22\n",
      "Area of Circle:  1519.76\n"
     ]
    }
   ],
   "source": [
    "#Comput the area of square or circle after promoting the user to type the first charater of figure name(S or C)\n",
    "figure=input('Input S or s for sqquare and C or c for circle')\n",
    "if figure=='S' or figure=='s':\n",
    "    side=int(input('Enter side of Square: '))\n",
    "    area=side*side\n",
    "    print('Area of Square: ',area)\n",
    "elif figure=='C'or figure=='c': \n",
    "    radius=int(input('Enter radius of Circle: '))\n",
    "    area=3.14*radius*radius\n",
    "    print(\"Area of Circle: \",area)\n",
    "else:\n",
    "    print(\"that's the wrong number...\")\n",
    "\n"
   ]
  }
 ],
 "metadata": {
  "kernelspec": {
   "display_name": "Python 3 (ipykernel)",
   "language": "python",
   "name": "python3"
  },
  "language_info": {
   "codemirror_mode": {
    "name": "ipython",
    "version": 3
   },
   "file_extension": ".py",
   "mimetype": "text/x-python",
   "name": "python",
   "nbconvert_exporter": "python",
   "pygments_lexer": "ipython3",
   "version": "3.9.7"
  }
 },
 "nbformat": 4,
 "nbformat_minor": 5
}
