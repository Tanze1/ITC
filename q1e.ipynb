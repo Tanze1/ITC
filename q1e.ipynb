{
 "cells": [
  {
   "cell_type": "code",
   "execution_count": 22,
   "id": "f23e1a1b",
   "metadata": {},
   "outputs": [
    {
     "name": "stdout",
     "output_type": "stream",
     "text": [
      "Enter First number: 20\n",
      "Enter Second number: 10\n",
      "20  is multiple of  10\n"
     ]
    }
   ],
   "source": [
    "#Read two integer numbers and check if first is multiple of second\n",
    "a=int(input('Enter First number: '))\n",
    "b=int(input('Enter Second number: '))\n",
    "remainder=a%b\n",
    "if remainder==0:\n",
    "    print(a,' is multiple of ',b)\n",
    "else:\n",
    "    print(a,' is not multiple of ',b)"
   ]
  },
  {
   "cell_type": "code",
   "execution_count": null,
   "id": "6ffb9d2c",
   "metadata": {},
   "outputs": [],
   "source": []
  }
 ],
 "metadata": {
  "kernelspec": {
   "display_name": "Python 3 (ipykernel)",
   "language": "python",
   "name": "python3"
  },
  "language_info": {
   "codemirror_mode": {
    "name": "ipython",
    "version": 3
   },
   "file_extension": ".py",
   "mimetype": "text/x-python",
   "name": "python",
   "nbconvert_exporter": "python",
   "pygments_lexer": "ipython3",
   "version": "3.9.7"
  }
 },
 "nbformat": 4,
 "nbformat_minor": 5
}
